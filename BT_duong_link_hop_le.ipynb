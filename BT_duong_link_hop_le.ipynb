{
  "nbformat": 4,
  "nbformat_minor": 0,
  "metadata": {
    "colab": {
      "name": "BT_duong_link_hop_le.ipynb",
      "provenance": [],
      "authorship_tag": "ABX9TyPkGo34a1zF/0c1WhmfQMex",
      "include_colab_link": true
    },
    "kernelspec": {
      "name": "python3",
      "display_name": "Python 3"
    }
  },
  "cells": [
    {
      "cell_type": "markdown",
      "metadata": {
        "id": "view-in-github",
        "colab_type": "text"
      },
      "source": [
        "<a href=\"https://colab.research.google.com/github/nguyenminhhieu3004/hieudezai/blob/main/BT_duong_link_hop_le.ipynb\" target=\"_parent\"><img src=\"https://colab.research.google.com/assets/colab-badge.svg\" alt=\"Open In Colab\"/></a>"
      ]
    },
    {
      "cell_type": "markdown",
      "metadata": {
        "id": "MLdrd56mNGHQ"
      },
      "source": [
        "\r\n",
        "\r\n",
        "*   Thư viện BeautifulSoup phải dùng\r\n",
        "*   Kết hợp với thư viện có sẵn của python re\r\n",
        "\r\n"
      ]
    },
    {
      "cell_type": "code",
      "metadata": {
        "id": "7H8yqznPO-Wv"
      },
      "source": [
        "import re\r\n",
        "import requests\r\n",
        "from bs4 import BeautifulSoup"
      ],
      "execution_count": 1,
      "outputs": []
    },
    {
      "cell_type": "code",
      "metadata": {
        "id": "6JOHCJwTPcgN"
      },
      "source": [
        "link = requests.get('https://vietnamnet.vn/')"
      ],
      "execution_count": 2,
      "outputs": []
    },
    {
      "cell_type": "markdown",
      "metadata": {
        "id": "5-kuDC1mPJr2"
      },
      "source": [
        "Đưa mã HTML vừa được request về dạng đẹp với lệnh\r\n",
        "\r\n"
      ]
    },
    {
      "cell_type": "code",
      "metadata": {
        "id": "wfQhJXXiPQxx"
      },
      "source": [
        "link_soup = BeautifulSoup(link.text,'html.parser')"
      ],
      "execution_count": 3,
      "outputs": []
    },
    {
      "cell_type": "markdown",
      "metadata": {
        "id": "I-X_jml0QIbN"
      },
      "source": [
        "Tìm tới chỗ nào mà thẻ a href được đặt tên, vì thẻ này sẽ được đặt tên khác nhau tùy từng trang "
      ]
    },
    {
      "cell_type": "code",
      "metadata": {
        "id": "zYGx7-CLQun8"
      },
      "source": [
        "results = link_soup('a', attrs={'href':True})"
      ],
      "execution_count": 4,
      "outputs": []
    },
    {
      "cell_type": "code",
      "metadata": {
        "colab": {
          "base_uri": "https://localhost:8080/"
        },
        "id": "g8pLghzKQ1zX",
        "outputId": "f40d6cf2-4276-4d0a-a655-9ee80884902a"
      },
      "source": [
        "results[0:15]"
      ],
      "execution_count": 10,
      "outputs": [
        {
          "output_type": "execute_result",
          "data": {
            "text/plain": [
              "[<a href=\"/\"><img alt=\"Báo VietNamNet - Đọc báo Online, Tin nhanh trong ngày\" src=\"https://vnn-res.vgcloud.vn/ResV9/event/tet-2020-logo.svg\"/></a>,\n",
              " <a class=\"pos-rel hottag tag2 m-r-10\" href=\"  https://vietnamnet.vn/vn/tet-nguyen-dan/\">#TếtNguyênĐán</a>,\n",
              " <a class=\"pos-rel hottag \" href=\"https://vietnamnet.vn/vn/dai-hoi-dang-lan-thu-xiii/\" target=\"_blank\">#Đại Hội Đảng XIII</a>,\n",
              " <a class=\"button-image d-ib search-button\" href=\"#\" title=\"Tìm kiếm\"><span>Go</span></a>,\n",
              " <a class=\"button-hot bg-red t-c t-u d-b c-fff opa-7\" href=\"/vn/tin-moi-nong/\" title=\"Tin nóng\">Tin nóng</a>,\n",
              " <a class=\"button-hot btn-blue bg-blu t-c t-u d-b c-fff opa-7\" href=\"/vn/tin-tuc-24h/\" title=\"Tin tức 24h\">Tin tức 24h</a>,\n",
              " <a class=\"button-image bt-fb bt-list opa-7\" href=\"https://www.facebook.com/vietnamnet.vn\" target=\"_blank\">Facebook</a>,\n",
              " <a class=\"button-image bt-youtb bt-list opa-7\" href=\"https://www.youtube.com/vietnamnetofficial\" target=\"_blank\">Youtube</a>,\n",
              " <a class=\"login-vnnid\" href=\"javascript:void(0)\"> </a>,\n",
              " <a class=\"btn-vnnid-red\" href=\"javascript:void(0)\"> </a>,\n",
              " <a href=\"https://id.vietnamnet.vn/Home.html\" target=\"_blank\">Trang cá nhân</a>,\n",
              " <a class=\"logout-vnnid\" href=\"javascript:void(0)\">Đăng xuất</a>,\n",
              " <a class=\"icon-home\" href=\"/\" title=\"Trang chủ\">Trang chủ</a>,\n",
              " <a class=\"label\" href=\"/vn/thoi-su/chinh-tri/\" title=\"Chính trị\">Chính trị</a>,\n",
              " <a class=\"label\" href=\"/vn/talkshow/\" title=\"Talks\">Talks</a>]"
            ]
          },
          "metadata": {
            "tags": []
          },
          "execution_count": 10
        }
      ]
    },
    {
      "cell_type": "code",
      "metadata": {
        "id": "2_aQkmMIRm8A"
      },
      "source": [
        "a= set()\r\n",
        "for i in results:\r\n",
        "    a.add(i['href'])"
      ],
      "execution_count": 7,
      "outputs": []
    },
    {
      "cell_type": "markdown",
      "metadata": {
        "id": "8-xhFTTgRwxj"
      },
      "source": [
        "Các đường link có một số không có .html ở đằng sau và htpp.... ở trước\r\n",
        "\r\n"
      ]
    },
    {
      "cell_type": "code",
      "metadata": {
        "colab": {
          "base_uri": "https://localhost:8080/"
        },
        "id": "6dQzMvFtR0vQ",
        "outputId": "e543b987-00ec-42ec-dca0-7716ffbe5657"
      },
      "source": [
        "list(a)[0:25]"
      ],
      "execution_count": 9,
      "outputs": [
        {
          "output_type": "execute_result",
          "data": {
            "text/plain": [
              "['/vn/doi-song/gioi-tre/',\n",
              " '/vn/giao-duc/tuyen-sinh/',\n",
              " '/vn/thoi-su/co-gai-tre-bi-xe-cho-dat-tong-tu-vong-o-vinh-phuc-707975.html?vnn_source=trangchu&vnn_medium=box-thoi-su3',\n",
              " '/vn/doi-song/gioi-tre/chu-re-qua-tron-nem-ca-chiec-banh-3-tang-vao-mat-co-dau-707877.html?vnn_source=trangchu&vnn_medium=box-doi-song5',\n",
              " '/vn/giao-duc/nguoi-thay/',\n",
              " '/vn/the-gioi/chan-dung/',\n",
              " '/vn/bat-dong-san/nha-dep/choang-ngop-kien-truc-dinh-thu-danh-rieng-cho-pho-tong-thong-my-707908.html',\n",
              " '/vn/thi-truong-tieu-dung/vinaconex-nham-dich-dat-doanh-thu-30-000-ty-dong-vao-nam-2025-706749.html',\n",
              " '/vn/cong-nghe/ung-dung/trien-khai-ban-do-chung-song-an-toan-voi-covid-cho-cac-phuong-tien-van-tai-hanh-khach-707115.html',\n",
              " '/vn/suc-khoe/cac-loai-benh/',\n",
              " '/vn/kinh-doanh/tai-chinh/',\n",
              " '/vn/the-thao/xem-truc-tiep-bong-da/truc-tiep-thanh-hoa-vs-viettel-quang-ninh-vs-da-nang-707258.html?vnn_source=trangchu&vnn_medium=box-the-thao3',\n",
              " '/vn/the-gioi/dan-mang-thich-thu-canh-ong-biden-be-chau-noi-o-nha-trang-707356.html',\n",
              " '/vn/multimedia/',\n",
              " '/vn/thoi-su/bhxh-bhyt/',\n",
              " '/vn/the-thao/bong-da-quoc-te/',\n",
              " '/vn/kinh-doanh/thi-truong/dao-that-thon-nam-dieu-hoa-cho-dan-ha-thanh-ruoc-ve-don-tet-707808.html?vnn_source=trangchu&vnn_medium=moinong2',\n",
              " '/vn/kinh-doanh/thi-truong/hai-san-nha-giau-nhap-khau-gia-re-707765.html?vnn_source=trangchu&vnn_medium=box-kinh-doanh7',\n",
              " '/vn/bat-dong-san/kinh-nghiem-tu-van/',\n",
              " '/vn/dai-hoi-dang/cac-van-kien-trinh-dai-hoi-xiii-cua-dang-duoc-chuan-bi-rat-cong-phu-bai-ban-707971.html',\n",
              " '/vn/bat-dong-san/thi-truong/',\n",
              " '/vn/the-thao/hau-truong/sao-liverpool-roberto-firmino-ke-si-tinh-va-ben-do-hoan-hao-707462.html?vnn_source=trangchu&vnn_medium=box-the-thao5',\n",
              " '/vn/giai-tri/nhac/',\n",
              " '/vn/oto-xe-may/kham-pha/can-tet-sieu-xe-sang-hang-chuc-ty-tap-nap-cap-cang-viet-nam-707583.html?vnn_source=trangchu&vnn_medium=box-oto-xe-may1',\n",
              " '/vn/thi-truong-tieu-dung/diem-danh-10-mon-do-tang-bo-me-y-nghia-nhan-dip-tet-nguyen-dan-707534.html']"
            ]
          },
          "metadata": {
            "tags": []
          },
          "execution_count": 9
        }
      ]
    },
    {
      "cell_type": "code",
      "metadata": {
        "id": "rq8SXwnNTpFm"
      },
      "source": [
        "mau = '^(http).*(html)$'\r\n",
        "url = 'https://vietnamnet.vn/vn/oto-xe-may/kham-pha/can-tet-sieu-xe-sang-hang-chuc-ty-tap-nap-cap-cang-viet-nam-707583.html'\r\n",
        "url_2 = 'https://vietnamnet.vn/vn/the-gioi/vi-sao-no-luc-lat-ket-qua-bau-cu-lan-chot-cua-ong-trump-that-bai-707955.html'"
      ],
      "execution_count": 11,
      "outputs": []
    },
    {
      "cell_type": "code",
      "metadata": {
        "id": "l3RHTHA5UUTm"
      },
      "source": [
        "\r\n",
        "# đặt biểu thức chính qui thay thế cho tất cả các link hợp lệ\r\n",
        "# đây là một biểu thức nó dạng như 'teen code' để ám chỉ những từ có điểm chung\r\n",
        "# ví dụ gray = grey có 2 cách viết, nhưng bây giờ bạn sẽ biểu diễn cả 2 từ đó với chỉ 1 biểu thức:\r\n",
        "  #  gra|ey : ở đây 'a' hoặc 'e' phải xuất hiện, nó biểu diễn cho cả grey và gray\r\n",
        "  #  biểu thức chính qui không chỉ có một, mà rất nhiều cách biểu diễn khác nhau.\r\n",
        "  # ví dụ, gr[ae]y : cũng có thể được biểu diễn cho trường hợp trên"
      ],
      "execution_count": null,
      "outputs": []
    },
    {
      "cell_type": "code",
      "metadata": {
        "colab": {
          "base_uri": "https://localhost:8080/"
        },
        "id": "TlyXuvoSUVa9",
        "outputId": "9d42ea7c-5663-4b5f-9ef4-2c892a2dcb3a"
      },
      "source": [
        "re.match(mau,url)"
      ],
      "execution_count": 12,
      "outputs": [
        {
          "output_type": "execute_result",
          "data": {
            "text/plain": [
              "<_sre.SRE_Match object; span=(0, 116), match='https://vietnamnet.vn/vn/oto-xe-may/kham-pha/can->"
            ]
          },
          "metadata": {
            "tags": []
          },
          "execution_count": 12
        }
      ]
    },
    {
      "cell_type": "code",
      "metadata": {
        "colab": {
          "base_uri": "https://localhost:8080/"
        },
        "id": "rW4915ixUePe",
        "outputId": "0477a97c-bc82-47b6-e861-a2e4e078c56b"
      },
      "source": [
        "re.match(mau,url_2)"
      ],
      "execution_count": 14,
      "outputs": [
        {
          "output_type": "execute_result",
          "data": {
            "text/plain": [
              "<_sre.SRE_Match object; span=(0, 110), match='https://vietnamnet.vn/vn/the-gioi/vi-sao-no-luc-l>"
            ]
          },
          "metadata": {
            "tags": []
          },
          "execution_count": 14
        }
      ]
    },
    {
      "cell_type": "markdown",
      "metadata": {
        "id": "wUQa0jcBUzOc"
      },
      "source": [
        "Link hợp lý"
      ]
    },
    {
      "cell_type": "code",
      "metadata": {
        "id": "C9kHhVC0U3aB"
      },
      "source": [
        "url_tim_duoc = set()\r\n",
        "for i in results:\r\n",
        "    a = i['href']\r\n",
        "    mau = '^(http).*(html|epi)$'\r\n",
        "    mau2 = '^/.*(html|epi)$'\r\n",
        "    if re.match(mau, a):\r\n",
        "        url_tim_duoc.add(a)\r\n",
        "    else:\r\n",
        "        if re.match(mau2, a):\r\n",
        "            url_lien_quan = 'https://vietnamnet.vn' + a\r\n",
        "            url_tim_duoc.add(url_lien_quan)"
      ],
      "execution_count": 15,
      "outputs": []
    },
    {
      "cell_type": "code",
      "metadata": {
        "colab": {
          "base_uri": "https://localhost:8080/"
        },
        "id": "kr4BENyuU919",
        "outputId": "56bc217f-0e47-4dc8-d2de-624e421cded9"
      },
      "source": [
        "list(url_tim_duoc)[0:15]"
      ],
      "execution_count": 16,
      "outputs": [
        {
          "output_type": "execute_result",
          "data": {
            "text/plain": [
              "['https://vietnamnet.vn/vn/tuanvietnam/tieudiem/dinh-vi-trung-quoc-trong-chinh-sach-doi-ngoai-cua-tong-thong-biden-707105.html',\n",
              " 'https://vietnamnet.vn/vn/thi-truong-tieu-dung/diem-danh-10-mon-do-tang-bo-me-y-nghia-nhan-dip-tet-nguyen-dan-707534.html',\n",
              " 'https://vietnamnet.vn/vn/tuanvietnam/viet-nam-hung-cuong/kinh-te-chong-chiu-deo-dai-tu-dai-dich-covid-19-707197.html',\n",
              " 'https://vietnamnet.vn/vn/thoi-su/quoc-phong/tang-50-000-so-bao-tet-cho-can-bo-chien-si-noi-bien-gioi-hai-dao-707791.html',\n",
              " 'https://2sao.vn/su-phu-thieu-bao-tram-phat-ngon-gay-chu-y-nguy-quan-tu-n-249697.html',\n",
              " 'https://vietnamnet.vn/vn/thi-truong-tieu-dung/cong-ty-long-hai-va-hanh-trinh-hanh-phuc-la-cho-di-706678.html',\n",
              " 'https://vietnamnet.vn/vn/thi-truong-tieu-dung/canh-giac-voi-hang-nhai-hang-ghe-massage-fujikashi-706845.html',\n",
              " 'https://vietnamnet.vn/vn/su-kien/toan-canh-cuoc-khung-hoang-tren-doi-capitol-703543.html',\n",
              " 'https://vietnamnet.vn/vn/bat-dong-san/du-an/chu-du-an-phot-lo-quy-dinh-bao-lanh-giao-dich-nguoi-mua-nha-chiu-thiet-707324.html',\n",
              " 'https://vietnamnet.vn/vn/su-kien/dich-covid-19-tai-viet-nam-695488.html',\n",
              " 'https://vietnamnet.vn/vn/thoi-su/bang-tuyet-xuat-hien-nhieu-noi-o-mien-bac-704516.html',\n",
              " 'https://vietnamnet.vn/vn/giao-duc/guong-mat-tre/ky-su-viet-tai-my-nghien-cuu-mieng-dan-dua-vac-xin-covid-19-vao-co-the-706699.html',\n",
              " 'https://vietnamnet.vn/vn/kinh-doanh/thi-truong/gia-bia-nuoc-ngot-tang-703816.html',\n",
              " 'https://vietnamnet.vn/vn/thi-truong-tieu-dung/5-mau-ao-khoac-trendy-cho-cac-chang-trai-dip-tet-nguyen-dan-706756.html',\n",
              " 'https://vietnamnet.vn/vn/tuanvietnam/tieudiem/nhat-ban-buoc-vao-cuoc-chien-cong-ham-ve-bien-dong-707656.html']"
            ]
          },
          "metadata": {
            "tags": []
          },
          "execution_count": 16
        }
      ]
    }
  ]
}
{
  "nbformat": 4,
  "nbformat_minor": 0,
  "metadata": {
    "colab": {
      "name": "baitapthayra.ipynb",
      "provenance": [],
      "authorship_tag": "ABX9TyN1011yEC6ikP/qlFAtIOYD",
      "include_colab_link": true
    },
    "kernelspec": {
      "name": "python3",
      "display_name": "Python 3"
    }
  },
  "cells": [
    {
      "cell_type": "markdown",
      "metadata": {
        "id": "view-in-github",
        "colab_type": "text"
      },
      "source": [
        "<a href=\"https://colab.research.google.com/github/nguyenminhhieu3004/hieudezai/blob/main/baitapthayra.ipynb\" target=\"_parent\"><img src=\"https://colab.research.google.com/assets/colab-badge.svg\" alt=\"Open In Colab\"/></a>"
      ]
    },
    {
      "cell_type": "markdown",
      "metadata": {
        "id": "4aIzDR0vxQLN"
      },
      "source": [
        "1 Tải 1 url về"
      ]
    },
    {
      "cell_type": "code",
      "metadata": {
        "id": "-_CrQDSmxTLt"
      },
      "source": [
        "import requests\r\n",
        "from bs4 import BeautifulSoup\r\n",
        "import os\r\n",
        "\r\n",
        "url = 'https://vietnamnet.vn/vn/the-thao/bong-da-quoc-te/mu-vs-burnley-mu-thanh-bai-tai-liverpool-704801.html'\r\n",
        "link=requests.get('https://vietnamnet.vn/vn/the-thao/bong-da-quoc-te/mu-vs-burnley-mu-thanh-bai-tai-liverpool-704801.html')\r\n",
        "link_html= BeautifulSoup(link.text,'html.parser')\r\n",
        "h=link_html('div',class_=\"clearfix item\")\r\n",
        "h[1].find('a')['href']"
      ],
      "execution_count": null,
      "outputs": []
    },
    {
      "cell_type": "markdown",
      "metadata": {
        "id": "BYQSqw8oxYb0"
      },
      "source": [
        "2. Lưu 1 html vào thư mục chỉ định"
      ]
    },
    {
      "cell_type": "code",
      "metadata": {
        "id": "AoW7iUzlxcSN"
      },
      "source": [
        "file = open('file' +'.html','w')\r\n",
        "file.write(link_html.text)\r\n",
        "file.close()"
      ],
      "execution_count": null,
      "outputs": []
    },
    {
      "cell_type": "markdown",
      "metadata": {
        "id": "ZjJplQ0kxfqN"
      },
      "source": [
        " 3. Cách lấy 1 phần tử đầu tiên ra khỏi list và xóa nó khỏi list"
      ]
    },
    {
      "cell_type": "code",
      "metadata": {
        "colab": {
          "base_uri": "https://localhost:8080/"
        },
        "id": "5xjjdH_ZxlL2",
        "outputId": "ac92414d-e8cf-4b7a-911c-dffe2aebfcd3"
      },
      "source": [
        "list_a = [1, 2, 3, 4]\r\n",
        "print(\"Trước khi xóa:\",list_a)\r\n",
        "list_b=list_a.pop(0)\r\n",
        "print(\"Sau khi xóa:\",list_a)"
      ],
      "execution_count": null,
      "outputs": [
        {
          "output_type": "stream",
          "text": [
            "Trước khi xóa: [1, 2, 3, 4]\n",
            "Sau khi xóa: [2, 3, 4]\n"
          ],
          "name": "stdout"
        }
      ]
    },
    {
      "cell_type": "markdown",
      "metadata": {
        "id": "L6zESO6YxoKE"
      },
      "source": [
        "4. Cách lấy các url trong html"
      ]
    },
    {
      "cell_type": "code",
      "metadata": {
        "id": "RK2DkKNFxqvc"
      },
      "source": [
        "from urllib.request import urlopen\r\n",
        "from bs4 import BeautifulSoup \r\n",
        "\r\n",
        "html = urlopen(url)\r\n",
        "bs = BeautifulSoup(html, 'html.parser')\r\n",
        "for link in bs.find_all(\"a\"):\r\n",
        "    if 'href' in link.attrs:\r\n",
        "        print(link.attrs['href'])"
      ],
      "execution_count": null,
      "outputs": []
    }
  ]
}